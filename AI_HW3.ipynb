{
  "nbformat": 4,
  "nbformat_minor": 0,
  "metadata": {
    "colab": {
      "name": "AI_HW3.ipynb",
      "provenance": [],
      "toc_visible": true,
      "authorship_tag": "ABX9TyNSeadKVDplLkWxBAFZnON1",
      "include_colab_link": true
    },
    "kernelspec": {
      "name": "python3",
      "display_name": "Python 3"
    }
  },
  "cells": [
    {
      "cell_type": "markdown",
      "metadata": {
        "id": "view-in-github",
        "colab_type": "text"
      },
      "source": [
        "<a href=\"https://colab.research.google.com/github/M-M-Mujtaba/Ai_HW3_Evo_2/blob/master/AI_HW3.ipynb\" target=\"_parent\"><img src=\"https://colab.research.google.com/assets/colab-badge.svg\" alt=\"Open In Colab\"/></a>"
      ]
    },
    {
      "cell_type": "code",
      "metadata": {
        "id": "keHxtfNv4cDo",
        "colab_type": "code",
        "colab": {
          "base_uri": "https://localhost:8080/",
          "height": 87
        },
        "outputId": "5754fd2e-a3f7-4d67-a32f-1d199c95ebc7"
      },
      "source": [
        "import numpy as np\n",
        "import random\n",
        "from skimage import io\n",
        "from skimage.transform import rescale, resize\n",
        "from skimage import img_as_ubyte\n",
        "import time\n",
        "\n",
        "\n",
        "\n",
        "class pop:\n",
        "\n",
        "    def __init__(self, img, target):\n",
        "        self.target = target\n",
        "        self.img = img\n",
        "\n",
        "    def cal_val(self):\n",
        "        self.val = np.sum(np.abs(np.subtract(self.target, self.img)))\n",
        "\n",
        "    @staticmethod\n",
        "    def generate_pop(size, target):  # return a list of randomly generated population\n",
        "        for i in range(size):\n",
        "            a= pop(np.random.randint(0, 256,target.shape ), target)\n",
        "            a.cal_val()\n",
        "            yield a\n",
        "    def mutaion(self):\n",
        "        self.img[random.randint(0, self.img.size - 1)] = random.randint(0, 256)\n",
        "\n",
        "    def crossover(self, p2):\n",
        "        pos = random.randint(1, self.img.size)\n",
        "        return pop(np.concatenate((self.img[:pos], p2.img[pos:])), self.target)\n",
        "\n",
        "def saveimg(v,img):\n",
        "    io.imsave(v,img)\n",
        "\n",
        "def showimg(img):\n",
        "    io.imshow(img)\n",
        "\n",
        "def evolve(target):\n",
        "    Population = pop.generate_pop(100, target)\n",
        "    Population = sorted(Population, key=lambda e: e.val)\n",
        "    new_pop = [None] * 100\n",
        "    set1 = Population[:10]\n",
        "    set2 = Population[:10]\n",
        "    limit = 25000\n",
        "    index = 0\n",
        "    best_child = Population[0]\n",
        "    while(index < limit and best_child.val > 1000):\n",
        "        for i in range(100):\n",
        "            p1 = set1[int(random.random() * 10)]\n",
        "            p2 = set2[int(random.random() * 10)]\n",
        "            child = p1.crossover(p2)\n",
        "            if int(random.random() * 10) == 1:\n",
        "                child.mutaion()\n",
        "            child.cal_val()\n",
        "            new_pop[i] = child\n",
        "        Population = new_pop\n",
        "        Population = sorted(Population, key=lambda e: e.val)\n",
        "        if Population[0].val < best_child.val:\n",
        "            #print(\"New best child found at generation {} with cost {}\".format(index, child.val))\n",
        "            best_child = Population[0]\n",
        "        index += 1\n",
        "        set1 = Population[:10]\n",
        "        set2 = Population[:10]\n",
        "\n",
        "    return best_child\n",
        "\n",
        "def main():\n",
        "\n",
        "    messi = io.imread('/content/messi.png', as_gray= True)\n",
        "    resized_messi = resize(messi, (75,75), anti_aliasing=True)\n",
        "    resized_messi =img_as_ubyte(resized_messi)\n",
        "    og_shape = resized_messi.shape\n",
        "    resized_messi = np.reshape(resized_messi, (resized_messi.size, 1))\n",
        "    seconds1 = time.time()\n",
        "    sample = evolve(resized_messi)\n",
        "    seconds2 = time.time()\n",
        "    print(seconds2-seconds1)\n",
        "    resized_messi = np.reshape(sample.img, og_shape)\n",
        "\n",
        "\n",
        "\n",
        "\n",
        "    saveimg('messi_2.png',resized_messi)\n",
        "\n",
        "\n",
        "if __name__ == \"__main__\":\n",
        "    main()\n",
        "\n",
        "\n",
        "\n"
      ],
      "execution_count": 12,
      "outputs": [
        {
          "output_type": "stream",
          "text": [
            "/usr/local/lib/python3.6/dist-packages/ipykernel_launcher.py:33: UserWarning: messi_2.png is a low contrast image\n",
            "WARNING:root:Lossy conversion from int64 to uint8. Range [0, 256]. Convert image to uint8 prior to saving to suppress this warning.\n"
          ],
          "name": "stderr"
        },
        {
          "output_type": "stream",
          "text": [
            "222.90446186065674\n"
          ],
          "name": "stdout"
        }
      ]
    },
    {
      "cell_type": "code",
      "metadata": {
        "id": "ino9-N4o5b5M",
        "colab_type": "code",
        "colab": {}
      },
      "source": [
        ""
      ],
      "execution_count": 0,
      "outputs": []
    }
  ]
}